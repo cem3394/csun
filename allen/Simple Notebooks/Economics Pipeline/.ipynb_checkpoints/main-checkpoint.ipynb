{
 "metadata": {
  "name": "",
  "signature": "sha256:f87554d4b234884e795d53c7b52b555160f32c81884100f6a591447baa20895e"
 },
 "nbformat": 3,
 "nbformat_minor": 0,
 "worksheets": [
  {
   "cells": [
    {
     "cell_type": "heading",
     "level": 1,
     "metadata": {},
     "source": [
      "Imports, Functions"
     ]
    },
    {
     "cell_type": "code",
     "collapsed": false,
     "input": [
      "%matplotlib inline\n",
      "from __future__ import division\n",
      "import numpy as np\n",
      "import pandas as pd\n",
      "import matplotlib.pyplot as plt\n",
      "import re\n",
      "import sklearn\n",
      "from sklearn import metrics\n",
      "from sklearn.cross_validation import train_test_split, cross_val_score\n",
      "from sklearn import metrics\n",
      "from sklearn.metrics import roc_curve, auc\n",
      "from sklearn.linear_model import LogisticRegression\n",
      "from sklearn.decomposition import PCA\n",
      "from sklearn.cluster import KMeans\n",
      "from scipy.spatial.distance import cdist\n",
      "from sklearn.decomposition import PCA\n",
      "from sklearn.preprocessing import StandardScaler\n",
      "from sklearn.ensemble import RandomForestClassifier\n",
      "from copy import deepcopy\n",
      "import sys\n",
      "from sklearn import metrics\n",
      "import kmeansdistance as KD\n",
      "from sklearn.cluster import KMeans\n",
      "\n",
      "def getGradsClusterDF(df, cluster_list):\n",
      "    return pd.DataFrame({'Graduated':df['Graduated'],'ClusterLbl':cluster_list})\n",
      "\n",
      "def printContingencyTable(y,ypred,labels):\n",
      "    confusion_matrix = metrics.confusion_matrix(y, ypred)\n",
      "    plt.matshow(confusion_matrix)\n",
      "    plt.title('Confusion matrix')\n",
      "    plt.colorbar()\n",
      "    plt.ylabel('True label')\n",
      "    plt.xlabel('Predicted label')\n",
      "    plt.show()\n",
      "    print pd.crosstab(y,ypred,rownames=[labels[0]],colnames=[labels[1]])\n",
      "\n",
      "def plotROC(y_test,y_pred):\n",
      "    #y_pred can consist of Boolean labels or probabilities, w/ the obvious implications for curve character\n",
      "    false_positive_rate, true_positive_rate, thresholds = roc_curve(y_test,y_pred)\n",
      "    roc_auc = auc(false_positive_rate, true_positive_rate)\n",
      "    plt.title('Receiver Operating Characteristic')\n",
      "    plt.plot(false_positive_rate, true_positive_rate, 'b', label='AUC = %0.2f' %roc_auc)\n",
      "    plt.legend(loc='lower right')\n",
      "    plt.plot([0, 1], [0, 1], 'r--')\n",
      "    plt.xlim([0.0, 1.0])\n",
      "    plt.ylim([0.0, 1.0])\n",
      "    plt.ylabel('True Positive Rate')\n",
      "    plt.xlabel('False Positive Rate')\n",
      "    plt.show()\n",
      "\n",
      "def encode(s):\n",
      "    v = re.split(r':',s)\n",
      "    x = v[1][1:]\n",
      "    out = 0.0\n",
      "    if x=='A+':\n",
      "        out=4.0\n",
      "    if x=='A':\n",
      "        out=4.0\n",
      "    if x=='A-':\n",
      "        out=3.7\n",
      "    if x=='B+':\n",
      "        out=3.3\n",
      "    if x=='B':\n",
      "        out=3.0\n",
      "    if x=='B-':\n",
      "        out=2.7\n",
      "    if x=='C+':\n",
      "        out=2.3\n",
      "    if x=='C':\n",
      "        out=2.0\n",
      "    if x=='C-':\n",
      "        out=1.7\n",
      "    if x=='D+':\n",
      "        out=1.3\n",
      "    if x=='D':\n",
      "        out=1.0\n",
      "    if x=='D-':\n",
      "        out=0.7\n",
      "    if x=='F':\n",
      "        out=0.0\n",
      "    if x=='NA':\n",
      "        out = 0.0\n",
      "    if x=='CR':\n",
      "        out=2.0\n",
      "    return out-2.0\n",
      "\n",
      "def determineColumnRange(data):\n",
      "    notClassStrings = ['Major_Cd','N_Terms','Graduated','Transfer_Cr','Inst_Cr']\n",
      "    newset = data.columns - notClassStrings\n",
      "    classIndexStart = list(data.columns).index(newset[0])\n",
      "    classIndexEnd = len(data.columns)-1\n",
      "    return (classIndexStart,classIndexEnd)\n",
      "\n",
      "def applyEncoding(data):\n",
      "    data['Graduated'].replace(to_replace=('N','Y'), value=(0,1), inplace=True)\n",
      "    gpaDF=data[data.columns[classIndexStart:]].applymap(encode) #apply encoding function \n",
      "    gpaDF[data.columns[:classIndexStart]]=data[data.columns[:classIndexStart]]\n",
      "    return gpaDF[data.columns]\n",
      "\n",
      "def getPCADataFrame(columns, pca, n_components=2):\n",
      "    pcaDF=pd.DataFrame({'class':columns})\n",
      "    for i in range(1,n_components+1):#add principal component columns\n",
      "        pcaDF['PC'+str(i)]=pca.components_[i-1]\n",
      "    return pcaDF\n",
      "\n",
      "def getLogRegDataFrame(columns,coeffs):\n",
      "    logregDF = pd.DataFrame({'class':columns,'coeff':coeffs})\n",
      "    return logregDF\n",
      "\n",
      "def CH_index(X, labels, centroids):\n",
      "    '''\n",
      "    https://github.com/scampion/scikit-learn/blob/master/scikits/learn/cluster/__init__.py\n",
      "    '''\n",
      "    mean = np.mean(X,axis=0) \n",
      "    B = np.sum([ np.sum(labels==i)*(c - mean)**2 for i,c in enumerate(centroids)])\n",
      "    W = np.sum([ (x-centroids[labels[i]])**2 for i, x in enumerate(X)])\n",
      "    c = len(centroids)\n",
      "    n = len(X)\n",
      "    return ((n-c)*B )/1.0/((c-1)*W)"
     ],
     "language": "python",
     "metadata": {},
     "outputs": [],
     "prompt_number": 33
    },
    {
     "cell_type": "heading",
     "level": 1,
     "metadata": {},
     "source": [
      "ALL EDITS IN THIS CELL, EVERYTHING AFTER IS AUTOMATED"
     ]
    },
    {
     "cell_type": "code",
     "collapsed": false,
     "input": [
      "data = pd.read_csv('economics_redacted.csv')#change dataset here\n",
      "firstClasses = ['ECON160','ECON161','ACCT220']#type in typical first three classes\n",
      "nameOfMajor = 'Economics'"
     ],
     "language": "python",
     "metadata": {},
     "outputs": [],
     "prompt_number": 34
    },
    {
     "cell_type": "code",
     "collapsed": false,
     "input": [
      "classIndexStart,classIndexEnd = determineColumnRange(data)\n",
      "\n",
      "gpaDF = applyEncoding(data)#apply encoding, return working dataframe for future operations\n",
      "\n",
      "col = range(classIndexStart,classIndexEnd+1)#returns the range of class columns\n",
      "\n",
      "gpaDF.head()"
     ],
     "language": "python",
     "metadata": {},
     "outputs": [
      {
       "html": [
        "<div style=\"max-height:1000px;max-width:1500px;overflow:auto;\">\n",
        "<table border=\"1\" class=\"dataframe\">\n",
        "  <thead>\n",
        "    <tr style=\"text-align: right;\">\n",
        "      <th></th>\n",
        "      <th>Major_Cd</th>\n",
        "      <th>N_Terms</th>\n",
        "      <th>Graduated</th>\n",
        "      <th>Transfer_Cr</th>\n",
        "      <th>Inst_Cr</th>\n",
        "      <th>ACCT220</th>\n",
        "      <th>ECON309</th>\n",
        "      <th>ECON310</th>\n",
        "      <th>ECON311</th>\n",
        "      <th>ECON401</th>\n",
        "      <th>ENGL205</th>\n",
        "      <th>ENGL305</th>\n",
        "      <th>ENGL306</th>\n",
        "      <th>ECON160</th>\n",
        "      <th>ECON161</th>\n",
        "      <th>MATH103</th>\n",
        "      <th>MATH150A</th>\n",
        "      <th>MATH255A</th>\n",
        "      <th>MATH140</th>\n",
        "      <th>SOM120</th>\n",
        "    </tr>\n",
        "  </thead>\n",
        "  <tbody>\n",
        "    <tr>\n",
        "      <th>0</th>\n",
        "      <td> 233904B</td>\n",
        "      <td> 1</td>\n",
        "      <td> 0</td>\n",
        "      <td> 46</td>\n",
        "      <td> 15</td>\n",
        "      <td>-2</td>\n",
        "      <td>-2</td>\n",
        "      <td>-2</td>\n",
        "      <td>-2.0</td>\n",
        "      <td>-2</td>\n",
        "      <td>-2</td>\n",
        "      <td>-2.0</td>\n",
        "      <td>-2</td>\n",
        "      <td>-2</td>\n",
        "      <td>-2</td>\n",
        "      <td>-2</td>\n",
        "      <td>-2</td>\n",
        "      <td>-2</td>\n",
        "      <td> 2.0</td>\n",
        "      <td>-2</td>\n",
        "    </tr>\n",
        "    <tr>\n",
        "      <th>1</th>\n",
        "      <td> 233904B</td>\n",
        "      <td> 1</td>\n",
        "      <td> 0</td>\n",
        "      <td> 64</td>\n",
        "      <td>  9</td>\n",
        "      <td>-2</td>\n",
        "      <td>-2</td>\n",
        "      <td>-2</td>\n",
        "      <td> 0.0</td>\n",
        "      <td>-2</td>\n",
        "      <td>-2</td>\n",
        "      <td> 0.3</td>\n",
        "      <td>-2</td>\n",
        "      <td> 0</td>\n",
        "      <td> 1</td>\n",
        "      <td>-2</td>\n",
        "      <td>-2</td>\n",
        "      <td>-2</td>\n",
        "      <td>-2.0</td>\n",
        "      <td>-2</td>\n",
        "    </tr>\n",
        "    <tr>\n",
        "      <th>2</th>\n",
        "      <td> 233904B</td>\n",
        "      <td> 1</td>\n",
        "      <td> 0</td>\n",
        "      <td> 14</td>\n",
        "      <td> 20</td>\n",
        "      <td> 0</td>\n",
        "      <td>-2</td>\n",
        "      <td>-2</td>\n",
        "      <td>-2.0</td>\n",
        "      <td>-2</td>\n",
        "      <td>-2</td>\n",
        "      <td>-2.0</td>\n",
        "      <td>-2</td>\n",
        "      <td> 0</td>\n",
        "      <td>-2</td>\n",
        "      <td>-2</td>\n",
        "      <td>-2</td>\n",
        "      <td>-2</td>\n",
        "      <td> 0.0</td>\n",
        "      <td>-2</td>\n",
        "    </tr>\n",
        "    <tr>\n",
        "      <th>3</th>\n",
        "      <td> 233904B</td>\n",
        "      <td> 2</td>\n",
        "      <td> 0</td>\n",
        "      <td> 22</td>\n",
        "      <td> 45</td>\n",
        "      <td> 1</td>\n",
        "      <td>-2</td>\n",
        "      <td>-2</td>\n",
        "      <td>-2.0</td>\n",
        "      <td>-2</td>\n",
        "      <td>-2</td>\n",
        "      <td>-2.0</td>\n",
        "      <td>-2</td>\n",
        "      <td>-2</td>\n",
        "      <td> 2</td>\n",
        "      <td> 0</td>\n",
        "      <td>-2</td>\n",
        "      <td>-2</td>\n",
        "      <td>-0.3</td>\n",
        "      <td>-2</td>\n",
        "    </tr>\n",
        "    <tr>\n",
        "      <th>4</th>\n",
        "      <td> 233904B</td>\n",
        "      <td> 2</td>\n",
        "      <td> 0</td>\n",
        "      <td> 70</td>\n",
        "      <td> 20</td>\n",
        "      <td> 0</td>\n",
        "      <td>-2</td>\n",
        "      <td>-2</td>\n",
        "      <td>-0.7</td>\n",
        "      <td>-2</td>\n",
        "      <td>-2</td>\n",
        "      <td> 0.0</td>\n",
        "      <td>-2</td>\n",
        "      <td> 2</td>\n",
        "      <td> 1</td>\n",
        "      <td>-2</td>\n",
        "      <td>-2</td>\n",
        "      <td>-2</td>\n",
        "      <td> 0.0</td>\n",
        "      <td>-2</td>\n",
        "    </tr>\n",
        "  </tbody>\n",
        "</table>\n",
        "</div>"
       ],
       "metadata": {},
       "output_type": "pyout",
       "prompt_number": 35,
       "text": [
        "  Major_Cd  N_Terms  Graduated  Transfer_Cr  Inst_Cr  ACCT220  ECON309  \\\n",
        "0  233904B        1          0           46       15       -2       -2   \n",
        "1  233904B        1          0           64        9       -2       -2   \n",
        "2  233904B        1          0           14       20        0       -2   \n",
        "3  233904B        2          0           22       45        1       -2   \n",
        "4  233904B        2          0           70       20        0       -2   \n",
        "\n",
        "   ECON310  ECON311  ECON401  ENGL205  ENGL305  ENGL306  ECON160  ECON161  \\\n",
        "0       -2     -2.0       -2       -2     -2.0       -2       -2       -2   \n",
        "1       -2      0.0       -2       -2      0.3       -2        0        1   \n",
        "2       -2     -2.0       -2       -2     -2.0       -2        0       -2   \n",
        "3       -2     -2.0       -2       -2     -2.0       -2       -2        2   \n",
        "4       -2     -0.7       -2       -2      0.0       -2        2        1   \n",
        "\n",
        "   MATH103  MATH150A  MATH255A  MATH140  SOM120  \n",
        "0       -2        -2        -2      2.0      -2  \n",
        "1       -2        -2        -2     -2.0      -2  \n",
        "2       -2        -2        -2      0.0      -2  \n",
        "3        0        -2        -2     -0.3      -2  \n",
        "4       -2        -2        -2      0.0      -2  "
       ]
      }
     ],
     "prompt_number": 35
    },
    {
     "cell_type": "heading",
     "level": 1,
     "metadata": {},
     "source": [
      "Total Records | Percentage Graduated"
     ]
    },
    {
     "cell_type": "code",
     "collapsed": false,
     "input": [
      "print \"Total economics major records: \",len(gpaDF)\n",
      "print \"Percentage graduated: \", 100-100*round(len(gpaDF.Graduated[gpaDF.Graduated==0])/1.0/len(gpaDF),3)"
     ],
     "language": "python",
     "metadata": {},
     "outputs": [
      {
       "output_type": "stream",
       "stream": "stdout",
       "text": [
        "Total economics major records:  1317\n",
        "Percentage graduated:  39.3\n"
       ]
      }
     ],
     "prompt_number": 36
    },
    {
     "cell_type": "heading",
     "level": 1,
     "metadata": {},
     "source": [
      "How many students Graduated?"
     ]
    },
    {
     "cell_type": "code",
     "collapsed": false,
     "input": [
      "graduatedDF = gpaDF[gpaDF['Graduated']==1]\n",
      "len(graduatedDF)"
     ],
     "language": "python",
     "metadata": {},
     "outputs": [
      {
       "metadata": {},
       "output_type": "pyout",
       "prompt_number": 37,
       "text": [
        "518"
       ]
      }
     ],
     "prompt_number": 37
    },
    {
     "cell_type": "code",
     "collapsed": false,
     "input": [
      "X = gpaDF[gpaDF.columns[col]]"
     ],
     "language": "python",
     "metadata": {},
     "outputs": [],
     "prompt_number": 38
    },
    {
     "cell_type": "heading",
     "level": 1,
     "metadata": {},
     "source": [
      "CH Index 5-Fold CV"
     ]
    },
    {
     "cell_type": "code",
     "collapsed": false,
     "input": [
      "chScores5 = []\n",
      "\n",
      "def chScorer(kmeans,X):\n",
      "    return CH_index(X.values, kmeans.labels_,kmeans.cluster_centers_)\n",
      "\n",
      "for i in range(1,10):\n",
      "    chScores5.append(cross_val_score(KMeans(n_clusters=i), X, scoring=chScorer, cv=5, n_jobs=-1))\n",
      "\n",
      "plt.figure(figsize=(10,5))\n",
      "plt.errorbar(range(1,10),[score.mean() for score in chScores5], yerr=[score.std() for score in chScores5],label='5-Fold CV')\n",
      "plt.legend(loc=1)\n",
      "plt.xlim([2,9])\n",
      "plt.xlabel(\"k clusters\")\n",
      "plt.ylabel(\"score\")\n",
      "plt.title(nameOfMajor+\" - KMeans CH Index\")\n",
      "plt.savefig('ch-'+nameOfMajor+'.png')\n",
      "plt.show()"
     ],
     "language": "python",
     "metadata": {},
     "outputs": [
      {
       "metadata": {},
       "output_type": "display_data",
       "png": "[encoded data removed]",
       "text": [
        "<matplotlib.figure.Figure at 0x10cb97350>"
       ]
      }
     ],
     "prompt_number": 39
    },
    {
     "cell_type": "heading",
     "level": 1,
     "metadata": {},
     "source": [
      "Cluster Metadata K=2 (necessary for next block of code)"
     ]
    },
    {
     "cell_type": "code",
     "collapsed": false,
     "input": [
      "print \"Now running KMeans on the FULL dataset, K=2\"\n",
      "k=2\n",
      "classifier = KMeans(n_clusters=k, n_init=100)\n",
      "classifier.fit(gpaDF[gpaDF.columns[col]])\n",
      "y_pred = classifier.predict(gpaDF[gpaDF.columns[col]])\n",
      "\n",
      "gpaDF['clusterLbl'] = y_pred\n",
      "\n",
      "gpaDF_CL1 = deepcopy(gpaDF[gpaDF['clusterLbl']==0])\n",
      "gpaDF_CL1_Perc_Graduating = len(gpaDF_CL1[gpaDF_CL1['Graduated']==1])/1.0/len(gpaDF_CL1)\n",
      "print \"\\nSize of cluster 1: \",len(gpaDF_CL1)\n",
      "print \"Avg # terms: \", round(gpaDF_CL1.N_Terms.mean(),3)\n",
      "print \"Avg # inst credits: \", round(gpaDF_CL1.Inst_Cr.mean(),3)\n",
      "print \"Percentage graduating: \",round(gpaDF_CL1_Perc_Graduating,3)\n",
      "\n",
      "gpaDF_CL2 = deepcopy(gpaDF[gpaDF['clusterLbl']==1])\n",
      "gpaDF_CL2_Perc_Graduating = len(gpaDF_CL2[gpaDF_CL2['Graduated']==1])/1.0/len(gpaDF_CL2)\n",
      "print \"\\n\\nSize of cluster 2: \",len(gpaDF_CL2)\n",
      "print \"Avg # terms: \", round(gpaDF_CL2.N_Terms.mean(),3)\n",
      "print \"Avg # inst credits: \", round(gpaDF_CL2.Inst_Cr.mean(),3)\n",
      "print \"Percentage graduating: \",round(gpaDF_CL2_Perc_Graduating,3)"
     ],
     "language": "python",
     "metadata": {},
     "outputs": [
      {
       "output_type": "stream",
       "stream": "stdout",
       "text": [
        "Now running KMeans on the FULL dataset, K=2\n",
        "\n",
        "Size of cluster 1: "
       ]
      },
      {
       "output_type": "stream",
       "stream": "stdout",
       "text": [
        " 683\n",
        "Avg # terms:  6.148\n",
        "Avg # inst credits:  66.282\n",
        "Percentage graduating:  0.691\n",
        "\n",
        "\n",
        "Size of cluster 2:  634\n",
        "Avg # terms:  4.162\n",
        "Avg # inst credits:  35.545\n",
        "Percentage graduating:  0.073\n"
       ]
      }
     ],
     "prompt_number": 40
    },
    {
     "cell_type": "heading",
     "level": 1,
     "metadata": {},
     "source": [
      "N Terms, Inst Credit, Cluster Box Plots | K = 2"
     ]
    },
    {
     "cell_type": "code",
     "collapsed": false,
     "input": [
      "plt.figure(figsize=(15,6))\n",
      "plt.subplot(1,2,1)\n",
      "plt.boxplot([gpaDF_CL1.N_Terms,gpaDF_CL2.N_Terms])\n",
      "plt.xlabel(\"Cluster\")\n",
      "plt.ylabel(\"Semesters spent in \"+nameOfMajor)\n",
      "plt.title(\"Terms across cluster 1, 2\")\n",
      "plt.subplot(1,2,2)\n",
      "plt.boxplot([gpaDF_CL1.Inst_Cr,gpaDF_CL2.Inst_Cr])\n",
      "plt.xlabel(\"Cluster\")\n",
      "plt.ylabel(\"Credits earned in \"+nameOfMajor+\" at CSUN\")\n",
      "plt.title(\"Inst Credit across cluster 1, 2\")\n",
      "plt.savefig('box-'+nameOfMajor+'.png')\n",
      "plt.show()"
     ],
     "language": "python",
     "metadata": {},
     "outputs": [
      {
       "metadata": {},
       "output_type": "display_data",
       "png": "[encoded data removed]",
       "text": [
        "<matplotlib.figure.Figure at 0x107f458d0>"
       ]
      }
     ],
     "prompt_number": 41
    },
    {
     "cell_type": "heading",
     "level": 1,
     "metadata": {},
     "source": [
      "LogReg, KMeans comparing FullSet to 3 Classes K=2"
     ]
    },
    {
     "cell_type": "code",
     "collapsed": false,
     "input": [
      "firstClassesIndices = []\n",
      "\n",
      "for i in firstClasses:\n",
      "    firstClassesIndices.append(list(gpaDF.columns).index(i))\n",
      "\n",
      "plt.figure(figsize=(9,6))\n",
      "\n",
      "#first 3 classes\n",
      "X_train, X_test, y_train, y_test = train_test_split(gpaDF[gpaDF.columns[firstClassesIndices]], gpaDF['Graduated'])\n",
      "\n",
      "classifier = KMeans(n_clusters=2, n_init=20)\n",
      "classifier.fit(X_train, y_train)\n",
      "y_pred = classifier.predict(X_test)\n",
      "\n",
      "false_positive_rate, true_positive_rate, thresholds = roc_curve(y_test,y_pred)\n",
      "roc_auc = auc(false_positive_rate, true_positive_rate)\n",
      "plt.plot(false_positive_rate, true_positive_rate, 'b--', label='KMeans 3 Classes AUC = %0.2f' %roc_auc)\n",
      "\n",
      "classifier = LogisticRegression()\n",
      "classifier.fit(X_train, y_train)\n",
      "y_pred = classifier.predict_proba(X_test)[:,1]\n",
      "false_positive_rate, true_positive_rate, thresholds = roc_curve(y_test,y_pred)\n",
      "roc_auc = auc(false_positive_rate, true_positive_rate)\n",
      "plt.plot(false_positive_rate, true_positive_rate, 'b', label='Log Reg 3 Classes AUC = %0.2f' %roc_auc)\n",
      "\n",
      "\n",
      "#full set\n",
      "X_train, X_test, y_train, y_test = train_test_split(gpaDF[gpaDF.columns[col]], data['Graduated'])\n",
      "\n",
      "classifier = KMeans(n_clusters=2, n_init=20)\n",
      "classifier.fit(X_train, y_train)\n",
      "y_pred = classifier.predict(X_test)\n",
      "\n",
      "false_positive_rate, true_positive_rate, thresholds = roc_curve(y_test,y_pred)\n",
      "roc_auc = auc(false_positive_rate, true_positive_rate)\n",
      "plt.plot(false_positive_rate, true_positive_rate, 'g--', label='KMeans Full AUC = %0.2f' %roc_auc)\n",
      "\n",
      "classifier = LogisticRegression()\n",
      "classifier.fit(X_train, y_train)\n",
      "y_pred = classifier.predict_proba(X_test)[:,1]\n",
      "false_positive_rate, true_positive_rate, thresholds = roc_curve(y_test,y_pred)\n",
      "roc_auc = auc(false_positive_rate, true_positive_rate)\n",
      "plt.plot(false_positive_rate, true_positive_rate, 'g', label='Log Reg Full AUC = %0.2f' %roc_auc)\n",
      "\n",
      "\n",
      "plt.title('ROC Plots Full Courses vs First Three Courses in '+nameOfMajor)\n",
      "plt.legend(loc='lower right')\n",
      "plt.plot([0, 1], [0, 1], 'r--')\n",
      "plt.xlim([0.0, 1.0])\n",
      "plt.ylim([0.0, 1.0])\n",
      "plt.ylabel('True Positive Rate')\n",
      "plt.xlabel('False Positive Rate')\n",
      "plt.savefig('ROC-'+nameOfMajor+'.png')\n",
      "plt.show()"
     ],
     "language": "python",
     "metadata": {},
     "outputs": [
      {
       "metadata": {},
       "output_type": "display_data",
       "png": "[encoded data removed]",
       "text": [
        "<matplotlib.figure.Figure at 0x10cb90f90>"
       ]
      }
     ],
     "prompt_number": 46
    },
    {
     "cell_type": "heading",
     "level": 1,
     "metadata": {},
     "source": [
      "Average Grades by Class Per Cluster K = 2"
     ]
    },
    {
     "cell_type": "code",
     "collapsed": false,
     "input": [
      "cl1_avg_grades = []\n",
      "cl2_avg_grades = []\n",
      "\n",
      "for i in gpaDF_CL1.columns[col].values:\n",
      "    cl1_avg_grades.append(gpaDF_CL1[i].mean())\n",
      "for i in gpaDF_CL2.columns[col].values:\n",
      "    cl2_avg_grades.append(gpaDF_CL2[i].mean())\n",
      "\n",
      "plt.figure(figsize=(12, 8))\n",
      "plt.title('Avg Grades by Class per Cluster k=2')\n",
      "plt.scatter(range(1,1+len(col)),cl1_avg_grades,c='r',marker='x',label=\"Cluster 1\")\n",
      "plt.scatter(range(1,1+len(col)),cl2_avg_grades,c='b',marker='x',label=\"Cluster 2\")\n",
      "plt.xticks(range(1,1+len(col)),gpaDF[gpaDF.columns[col]].columns.values,rotation=70)\n",
      "plt.legend()\n",
      "plt.savefig('grades-'+nameOfMajor+'.png')\n",
      "plt.show()"
     ],
     "language": "python",
     "metadata": {},
     "outputs": [
      {
       "metadata": {},
       "output_type": "display_data",
       "png": "[encoded data removed]",
       "text": [
        "<matplotlib.figure.Figure at 0x10cbaad50>"
       ]
      }
     ],
     "prompt_number": 43
    },
    {
     "cell_type": "code",
     "collapsed": false,
     "input": [],
     "language": "python",
     "metadata": {},
     "outputs": []
    }
   ],
   "metadata": {}
  }
 ]
}