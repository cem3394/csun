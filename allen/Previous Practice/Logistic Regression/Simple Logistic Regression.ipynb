{
 "metadata": {
  "name": "",
  "signature": "sha256:38b1169a58463983301494324ad04f3da3d1e8be5accd9bd7b142396cce0b734"
 },
 "nbformat": 3,
 "nbformat_minor": 0,
 "worksheets": [
  {
   "cells": [
    {
     "cell_type": "code",
     "collapsed": false,
     "input": [
      "%matplotlib inline\n",
      "import numpy as np\n",
      "import pandas as pd\n",
      "from sklearn.linear_model import LogisticRegression\n",
      "from sklearn import metrics\n",
      "import matplotlib.pyplot as plt"
     ],
     "language": "python",
     "metadata": {},
     "outputs": [],
     "prompt_number": 16
    },
    {
     "cell_type": "code",
     "collapsed": false,
     "input": [
      "data = pd.read_csv('math-redacted.csv')\n",
      "data.head()"
     ],
     "language": "python",
     "metadata": {},
     "outputs": [
      {
       "html": [
        "<div style=\"max-height:1000px;max-width:1500px;overflow:auto;\">\n",
        "<table border=\"1\" class=\"dataframe\">\n",
        "  <thead>\n",
        "    <tr style=\"text-align: right;\">\n",
        "      <th></th>\n",
        "      <th>Major_Cd</th>\n",
        "      <th>N_Terms</th>\n",
        "      <th>Graduated</th>\n",
        "      <th>Transfer_Cr</th>\n",
        "      <th>Inst_Cr</th>\n",
        "      <th>Total_Cr</th>\n",
        "      <th>MATH102</th>\n",
        "      <th>MATH102L</th>\n",
        "      <th>MATH103</th>\n",
        "      <th>MATH103A1</th>\n",
        "      <th>...</th>\n",
        "      <th>MATH92</th>\n",
        "      <th>MATH93</th>\n",
        "      <th>MATH93OL</th>\n",
        "      <th>MATH94</th>\n",
        "      <th>MATH94A</th>\n",
        "      <th>MATH94B</th>\n",
        "      <th>MATH95</th>\n",
        "      <th>MATH96S</th>\n",
        "      <th>MATH998A1</th>\n",
        "      <th>MATH999A1</th>\n",
        "    </tr>\n",
        "  </thead>\n",
        "  <tbody>\n",
        "    <tr>\n",
        "      <th>0</th>\n",
        "      <td> 785845B</td>\n",
        "      <td>  4</td>\n",
        "      <td> N</td>\n",
        "      <td> 96.3</td>\n",
        "      <td> 31</td>\n",
        "      <td> 127.3</td>\n",
        "      <td> 0</td>\n",
        "      <td> 0</td>\n",
        "      <td> 1</td>\n",
        "      <td> 0</td>\n",
        "      <td>...</td>\n",
        "      <td> 0</td>\n",
        "      <td> 0</td>\n",
        "      <td> 0</td>\n",
        "      <td> 0</td>\n",
        "      <td> 0</td>\n",
        "      <td> 0</td>\n",
        "      <td> 0</td>\n",
        "      <td> 0</td>\n",
        "      <td> 0</td>\n",
        "      <td> 0</td>\n",
        "    </tr>\n",
        "    <tr>\n",
        "      <th>1</th>\n",
        "      <td> 785834B</td>\n",
        "      <td> 15</td>\n",
        "      <td> N</td>\n",
        "      <td> 70.0</td>\n",
        "      <td> 51</td>\n",
        "      <td> 121.0</td>\n",
        "      <td> 0</td>\n",
        "      <td> 0</td>\n",
        "      <td> 0</td>\n",
        "      <td> 0</td>\n",
        "      <td>...</td>\n",
        "      <td> 0</td>\n",
        "      <td> 0</td>\n",
        "      <td> 0</td>\n",
        "      <td> 0</td>\n",
        "      <td> 0</td>\n",
        "      <td> 0</td>\n",
        "      <td> 0</td>\n",
        "      <td> 0</td>\n",
        "      <td> 0</td>\n",
        "      <td> 0</td>\n",
        "    </tr>\n",
        "    <tr>\n",
        "      <th>2</th>\n",
        "      <td> 785834B</td>\n",
        "      <td>  1</td>\n",
        "      <td> N</td>\n",
        "      <td> 13.0</td>\n",
        "      <td> 24</td>\n",
        "      <td>  37.0</td>\n",
        "      <td> 0</td>\n",
        "      <td> 0</td>\n",
        "      <td> 0</td>\n",
        "      <td> 0</td>\n",
        "      <td>...</td>\n",
        "      <td> 0</td>\n",
        "      <td> 0</td>\n",
        "      <td> 0</td>\n",
        "      <td> 0</td>\n",
        "      <td> 0</td>\n",
        "      <td> 0</td>\n",
        "      <td> 0</td>\n",
        "      <td> 0</td>\n",
        "      <td> 0</td>\n",
        "      <td> 0</td>\n",
        "    </tr>\n",
        "    <tr>\n",
        "      <th>3</th>\n",
        "      <td> 785834B</td>\n",
        "      <td>  3</td>\n",
        "      <td> N</td>\n",
        "      <td>  0.0</td>\n",
        "      <td> 38</td>\n",
        "      <td>  38.0</td>\n",
        "      <td> 0</td>\n",
        "      <td> 0</td>\n",
        "      <td> 0</td>\n",
        "      <td> 0</td>\n",
        "      <td>...</td>\n",
        "      <td> 0</td>\n",
        "      <td> 0</td>\n",
        "      <td> 0</td>\n",
        "      <td> 0</td>\n",
        "      <td> 0</td>\n",
        "      <td> 0</td>\n",
        "      <td> 0</td>\n",
        "      <td> 0</td>\n",
        "      <td> 0</td>\n",
        "      <td> 0</td>\n",
        "    </tr>\n",
        "    <tr>\n",
        "      <th>4</th>\n",
        "      <td> 785845B</td>\n",
        "      <td>  4</td>\n",
        "      <td> N</td>\n",
        "      <td>  6.0</td>\n",
        "      <td> 46</td>\n",
        "      <td>  52.0</td>\n",
        "      <td> 0</td>\n",
        "      <td> 0</td>\n",
        "      <td> 0</td>\n",
        "      <td> 0</td>\n",
        "      <td>...</td>\n",
        "      <td> 0</td>\n",
        "      <td> 0</td>\n",
        "      <td> 0</td>\n",
        "      <td> 0</td>\n",
        "      <td> 0</td>\n",
        "      <td> 0</td>\n",
        "      <td> 1</td>\n",
        "      <td> 0</td>\n",
        "      <td> 0</td>\n",
        "      <td> 0</td>\n",
        "    </tr>\n",
        "  </tbody>\n",
        "</table>\n",
        "<p>5 rows \u00d7 121 columns</p>\n",
        "</div>"
       ],
       "metadata": {},
       "output_type": "pyout",
       "prompt_number": 17,
       "text": [
        "  Major_Cd  N_Terms Graduated  Transfer_Cr  Inst_Cr  Total_Cr  MATH102  \\\n",
        "0  785845B        4         N         96.3       31     127.3        0   \n",
        "1  785834B       15         N         70.0       51     121.0        0   \n",
        "2  785834B        1         N         13.0       24      37.0        0   \n",
        "3  785834B        3         N          0.0       38      38.0        0   \n",
        "4  785845B        4         N          6.0       46      52.0        0   \n",
        "\n",
        "   MATH102L  MATH103  MATH103A1    ...      MATH92  MATH93  MATH93OL  MATH94  \\\n",
        "0         0        1          0    ...           0       0         0       0   \n",
        "1         0        0          0    ...           0       0         0       0   \n",
        "2         0        0          0    ...           0       0         0       0   \n",
        "3         0        0          0    ...           0       0         0       0   \n",
        "4         0        0          0    ...           0       0         0       0   \n",
        "\n",
        "   MATH94A  MATH94B  MATH95  MATH96S  MATH998A1  MATH999A1  \n",
        "0        0        0       0        0          0          0  \n",
        "1        0        0       0        0          0          0  \n",
        "2        0        0       0        0          0          0  \n",
        "3        0        0       0        0          0          0  \n",
        "4        0        0       1        0          0          0  \n",
        "\n",
        "[5 rows x 121 columns]"
       ]
      }
     ],
     "prompt_number": 17
    },
    {
     "cell_type": "markdown",
     "metadata": {},
     "source": [
      "I'm using only Total_Cr and Graduated for the logistic regression, and I'm also cutting out outliers. Outliers will be those who have more than 170 total credits."
     ]
    },
    {
     "cell_type": "code",
     "collapsed": false,
     "input": [
      "grad = data['Graduated'].values\n",
      "totalcr = data['Total_Cr'].values\n",
      "\n",
      "for i in range(len(grad)):\n",
      "    if grad[i]==\"N\":\n",
      "        grad[i]=0\n",
      "    else:\n",
      "        grad[i]=1\n",
      "print grad[0:10]#checking to see if it looks right\n",
      "print totalcr[0:10]#^\n",
      "\n",
      "newtotalcr = []\n",
      "newgrad = []\n",
      "\n",
      "for i in range(len(totalcr)):\n",
      "    if totalcr[i]<=170:\n",
      "        newtotalcr.append(totalcr[i])\n",
      "        newgrad.append(grad[i])\n",
      "\n",
      "grad = np.array(newgrad)\n",
      "totalcr = np.array(newtotalcr)\n",
      "\n",
      "print len(grad)\n",
      "print len(totalcr)"
     ],
     "language": "python",
     "metadata": {},
     "outputs": [
      {
       "output_type": "stream",
       "stream": "stdout",
       "text": [
        "[0 0 0 0 0 0 0 0 0 0]\n",
        "[ 127.3  121.    37.    38.    52.    73.   148.   110.    78.    98. ]\n",
        "792\n",
        "792\n"
       ]
      }
     ],
     "prompt_number": 18
    },
    {
     "cell_type": "code",
     "collapsed": false,
     "input": [
      "print grad.shape\n",
      "print totalcr.shape"
     ],
     "language": "python",
     "metadata": {},
     "outputs": [
      {
       "output_type": "stream",
       "stream": "stdout",
       "text": [
        "(792,)\n",
        "(792,)\n"
       ]
      }
     ],
     "prompt_number": 19
    },
    {
     "cell_type": "markdown",
     "metadata": {},
     "source": [
      "Okay so all is fine so far, except there's something tricky about this. You see that it says (792,) right? That's actually not the same as (792,1). I didn't realize this at first and it has been a headache up until now, but better late than never. Reshaping it is critical for the next step of fitting it into the model."
     ]
    },
    {
     "cell_type": "code",
     "collapsed": false,
     "input": [
      "totalcr = totalcr.reshape(792,1)\n",
      "\n",
      "model = LogisticRegression()\n",
      "model = model.fit(totalcr,grad)"
     ],
     "language": "python",
     "metadata": {},
     "outputs": [],
     "prompt_number": 20
    },
    {
     "cell_type": "markdown",
     "metadata": {},
     "source": [
      "The above code first creates an instance of a LogisticRegression model and then fits the data to it. The parameters of fit are X,y where X is an array of size [n samples, n features] and y is an array of size [n samples]. The reshaping of totalcr is for the reason of having 792 samples and 1 feature."
     ]
    },
    {
     "cell_type": "code",
     "collapsed": false,
     "input": [
      "probas = model.predict_proba(totalcr)\n",
      "print probas"
     ],
     "language": "python",
     "metadata": {},
     "outputs": [
      {
       "output_type": "stream",
       "stream": "stdout",
       "text": [
        "[[ 0.85603291  0.14396709]\n",
        " [ 0.88195276  0.11804724]\n",
        " [ 0.99366586  0.00633414]\n",
        " ..., \n",
        " [ 0.93190378  0.06809622]\n",
        " [ 0.99213932  0.00786068]\n",
        " [ 0.97783767  0.02216233]]\n"
       ]
      }
     ],
     "prompt_number": 22
    },
    {
     "cell_type": "markdown",
     "metadata": {},
     "source": [
      "The above just gives probabilities for graduation based on totalcr. The left column is probabiity of not graduating, the right column is the probability of graduating."
     ]
    },
    {
     "cell_type": "code",
     "collapsed": false,
     "input": [
      "predicted = model.predict(totalcr)"
     ],
     "language": "python",
     "metadata": {},
     "outputs": [],
     "prompt_number": 23
    },
    {
     "cell_type": "code",
     "collapsed": false,
     "input": [
      "print grad\n",
      "print predicted"
     ],
     "language": "python",
     "metadata": {},
     "outputs": [
      {
       "output_type": "stream",
       "stream": "stdout",
       "text": [
        "[0 0 0 0 0 0 0 0 0 0 0 0 0 0 0 0 0 0 0 0 0 0 0 0 0 0 0 0 0 0 0 0 0 0 0 0 0\n",
        " 0 0 0 0 0 0 0 0 0 0 0 0 0 0 0 0 0 0 0 0 0 0 0 0 0 0 0 0 0 0 0 0 0 0 0 1 0\n",
        " 0 0 0 0 0 0 0 0 0 0 0 0 0 0 0 0 0 0 0 0 0 0 0 0 0 0 0 0 0 0 0 1 0 0 0 0 0\n",
        " 0 0 0 0 0 0 0 0 0 0 0 0 0 0 0 0 0 0 0 0 0 0 0 0 0 0 0 0 0 0 0 0 0 0 0 0 0\n",
        " 0 0 0 0 0 0 0 0 0 0 0 0 0 0 0 0 0 0 0 0 0 0 0 0 0 0 0 0 0 0 0 0 0 0 0 0 0\n",
        " 0 0 0 0 0 0 0 0 0 0 0 0 0 0 0 0 0 0 0 0 0 0 0 0 1 0 0 0 0 0 0 0 0 0 0 0 0\n",
        " 0 0 0 0 0 0 0 0 0 0 0 0 0 0 0 0 0 0 0 0 1 0 0 0 0 0 0 0 1 0 0 0 0 0 0 0 0\n",
        " 0 0 0 0 0 0 0 0 0 0 0 0 0 0 0 0 0 0 0 0 1 0 0 0 0 0 0 1 0 0 0 0 0 0 0 0 0\n",
        " 0 0 0 0 1 0 0 0 0 0 0 1 0 0 0 0 0 0 0 0 0 0 0 0 0 0 0 0 0 0 0 0 1 0 0 0 0\n",
        " 0 0 0 0 0 0 1 0 0 0 0 0 0 0 0 0 0 0 0 0 0 0 0 0 0 0 0 0 0 0 0 0 0 0 0 0 0\n",
        " 0 0 0 0 0 1 0 0 0 0 0 0 0 0 0 0 0 0 0 0 1 1 0 0 0 0 0 0 0 0 0 0 0 0 0 0 0\n",
        " 1 0 0 0 0 0 0 0 0 0 0 1 0 0 0 0 0 0 0 0 0 1 0 0 0 0 0 0 0 0 0 0 1 1 0 0 0\n",
        " 0 0 0 0 0 0 0 0 0 0 0 0 0 0 0 0 0 0 0 0 0 0 0 0 0 0 0 0 0 0 0 0 0 0 0 0 0\n",
        " 0 0 1 0 1 0 0 0 1 0 0 0 0 0 0 0 0 0 0 0 0 0 0 0 0 0 0 0 1 1 0 0 0 0 0 0 0\n",
        " 0 1 0 0 0 0 0 0 0 0 0 0 0 0 0 0 1 0 0 0 0 0 0 0 0 0 0 0 0 0 0 0 0 1 0 0 1\n",
        " 0 0 0 0 0 0 0 0 0 0 1 0 0 0 0 0 0 0 1 0 0 0 0 0 0 0 0 0 0 0 0 0 0 0 0 0 0\n",
        " 0 0 0 0 0 0 0 0 0 0 0 0 0 0 0 0 0 0 0 0 0 0 0 0 0 0 0 0 0 0 0 0 0 0 0 0 0\n",
        " 0 0 0 0 0 0 0 0 0 0 0 0 0 0 0 1 0 0 0 0 0 0 0 0 0 0 0 0 0 0 0 0 0 0 0 0 0\n",
        " 0 0 0 0 0 0 0 0 0 0 0 0 0 0 0 0 0 0 0 0 0 0 0 0 0 0 0 0 0 0 0 0 0 0 0 0 0\n",
        " 0 0 0 0 0 0 0 0 0 0 0 0 0 0 0 0 0 0 0 0 0 0 0 0 0 0 0 0 0 0 0 0 0 0 0 0 0\n",
        " 0 0 0 0 0 0 0 0 0 0 0 0 0 0 0 0 0 0 0 0 0 0 0 0 0 0 0 0 0 0 0 0 0 0 0 0 0\n",
        " 0 0 0 0 0 0 0 0 0 0 0 0 0 0 0]\n",
        "[0 0 0 0 0 0 0 0 0 0 0 0 0 0 0 0 0 0 0 0 0 0 0 0 0 0 0 0 0 0 0 0 0 0 0 0 0\n",
        " 0 0 0 0 0 0 0 0 0 0 0 0 0 0 0 0 0 0 0 0 0 0 0 0 0 0 0 0 0 0 0 0 0 0 0 0 0\n",
        " 0 0 0 0 0 0 0 0 0 0 0 0 0 0 0 0 0 0 0 0 0 0 0 0 0 0 0 0 0 0 0 0 0 0 0 0 0\n",
        " 0 0 0 0 0 0 0 0 0 0 0 0 0 0 0 0 0 0 0 0 0 0 0 0 0 0 0 0 0 0 0 0 0 0 0 0 0\n",
        " 0 0 0 0 0 0 0 0 0 0 0 0 0 0 0 0 0 0 0 0 0 0 0 0 0 0 0 0 0 0 0 0 0 0 0 0 0\n",
        " 0 0 0 0 0 0 0 0 0 0 0 0 0 0 0 0 0 0 0 0 0 0 0 0 0 0 0 0 0 0 0 0 0 0 0 0 0\n",
        " 0 0 0 0 0 0 0 0 0 0 0 0 0 0 0 0 0 0 0 0 0 0 0 0 0 0 0 0 0 0 0 0 0 0 0 0 0\n",
        " 0 0 0 0 0 0 0 0 0 0 0 0 0 0 0 0 0 0 0 0 0 0 0 0 0 0 0 0 0 0 0 0 0 0 0 0 0\n",
        " 0 0 0 0 0 0 0 0 0 0 0 0 0 0 0 0 0 0 0 0 0 0 0 0 0 0 0 0 0 0 0 0 0 0 0 0 0\n",
        " 0 0 0 0 0 0 0 0 0 0 0 0 0 0 0 0 0 0 0 0 0 0 0 0 0 0 0 0 0 0 0 0 0 0 0 0 0\n",
        " 0 0 0 0 0 0 0 0 0 0 0 0 0 0 0 0 0 0 0 0 0 0 0 0 0 0 0 0 0 0 0 0 0 0 0 0 0\n",
        " 0 0 0 0 0 0 0 0 0 0 0 0 0 0 0 0 0 0 0 0 0 0 0 0 0 0 0 0 0 0 0 0 0 0 0 0 0\n",
        " 0 0 0 0 0 0 0 0 0 0 0 0 0 0 0 0 0 0 0 0 0 0 0 0 0 0 0 0 0 0 0 0 0 0 0 0 0\n",
        " 0 0 0 0 0 0 0 0 0 0 0 0 0 0 0 0 0 0 0 0 0 0 0 0 0 0 0 0 0 0 0 0 0 0 0 0 0\n",
        " 0 0 0 0 0 0 0 0 0 0 0 0 0 0 0 0 0 0 0 0 0 0 0 0 0 0 0 0 0 0 0 0 0 0 0 0 0\n",
        " 0 0 0 0 0 0 0 0 0 0 0 0 0 0 0 0 0 0 0 0 0 0 0 0 0 0 0 0 0 0 0 0 0 0 0 0 0\n",
        " 0 0 0 0 0 0 0 0 0 0 0 0 0 0 0 0 0 0 0 0 0 0 0 0 0 0 0 0 0 0 0 0 0 0 0 0 0\n",
        " 0 0 0 0 0 0 0 0 0 0 0 0 0 0 0 0 0 0 0 0 0 0 0 0 0 0 0 0 0 0 0 0 0 0 0 0 0\n",
        " 0 0 0 0 0 0 0 0 0 0 0 0 0 0 0 0 0 0 0 0 0 0 0 0 0 0 0 0 0 0 0 0 0 0 0 0 0\n",
        " 0 0 0 0 0 0 0 0 0 0 0 0 0 0 0 0 0 0 0 0 0 0 0 0 0 0 0 0 0 0 0 0 0 0 0 0 0\n",
        " 0 0 0 0 0 0 0 0 0 0 0 0 0 0 0 0 0 0 0 0 0 0 0 0 0 0 0 0 0 0 0 0 0 0 0 0 0\n",
        " 0 0 0 0 0 0 0 0 0 0 0 0 0 0 0]\n"
       ]
      }
     ],
     "prompt_number": 10
    },
    {
     "cell_type": "code",
     "collapsed": false,
     "input": [
      "print metrics.accuracy_score(grad.astype(int),predicted.astype(int))\n",
      "#weird error if taking out astype... not sure why"
     ],
     "language": "python",
     "metadata": {},
     "outputs": [
      {
       "output_type": "stream",
       "stream": "stdout",
       "text": [
        "0.960858585859\n"
       ]
      }
     ],
     "prompt_number": 24
    },
    {
     "cell_type": "code",
     "collapsed": false,
     "input": [
      "plt.scatter(totalcr,grad)"
     ],
     "language": "python",
     "metadata": {},
     "outputs": [
      {
       "metadata": {},
       "output_type": "pyout",
       "prompt_number": 25,
       "text": [
        "<matplotlib.collections.PathCollection at 0x10c4563d0>"
       ]
      },
      {
       "metadata": {},
       "output_type": "display_data",
       "png": "[encoded data removed]",
       "text": [
        "<matplotlib.figure.Figure at 0x10c51e2d0>"
       ]
      }
     ],
     "prompt_number": 25
    },
    {
     "cell_type": "code",
     "collapsed": false,
     "input": [
      "plt.plot(totalcr,grad,'.')\n",
      "plt.plot(totalcr,probas,'r.')\n",
      "plt.grid()\n",
      "plt.axis([0,200,-.3,1.3])\n",
      "plt.show()"
     ],
     "language": "python",
     "metadata": {},
     "outputs": [
      {
       "metadata": {},
       "output_type": "display_data",
       "png": "[encoded data removed]",
       "text": [
        "<matplotlib.figure.Figure at 0x10c44f850>"
       ]
      }
     ],
     "prompt_number": 26
    },
    {
     "cell_type": "markdown",
     "metadata": {},
     "source": [
      "So now we have that nice picture, but the data points aren't sorted yet which means any line-drawing will look like a zig-zag disaster. The rest of this code is on sorting and replotting with a line instead of just red points."
     ]
    },
    {
     "cell_type": "code",
     "collapsed": false,
     "input": [
      "totalprobtuple = zip(totalcr.reshape(792),probas[:,1])\n",
      "totalprobtuple[0:10]"
     ],
     "language": "python",
     "metadata": {},
     "outputs": [
      {
       "metadata": {},
       "output_type": "pyout",
       "prompt_number": 47,
       "text": [
        "[(127.3, 0.14396708729902902),\n",
        " (121.0, 0.11804724306358887),\n",
        " (37.0, 0.0063341426955110568),\n",
        " (38.0, 0.0065663853036993305),\n",
        " (52.0, 0.010859405391196087),\n",
        " (73.0, 0.022961510573971403),\n",
        " (148.0, 0.26259996385501932),\n",
        " (110.0, 0.082434185617556943),\n",
        " (78.0, 0.027398322843894755),\n",
        " (98.0, 0.054959181746929368)]"
       ]
      }
     ],
     "prompt_number": 47
    },
    {
     "cell_type": "code",
     "collapsed": false,
     "input": [
      "def getKey(item):\n",
      "    return item[0]\n",
      "sortedtuple = sorted(totalprobtuple,key=getKey)\n",
      "sortedtuple[0:10]"
     ],
     "language": "python",
     "metadata": {},
     "outputs": [
      {
       "metadata": {},
       "output_type": "pyout",
       "prompt_number": 50,
       "text": [
        "[(0.0, 0.0016647251775889467),\n",
        " (0.0, 0.0016647251775889467),\n",
        " (0.0, 0.0016647251775889467),\n",
        " (0.0, 0.0016647251775889467),\n",
        " (0.0, 0.0016647251775889467),\n",
        " (0.0, 0.0016647251775889467),\n",
        " (0.0, 0.0016647251775889467),\n",
        " (0.0, 0.0016647251775889467),\n",
        " (1.0, 0.0017260600530867992),\n",
        " (3.0, 0.001855579746843961)]"
       ]
      }
     ],
     "prompt_number": 50
    },
    {
     "cell_type": "code",
     "collapsed": false,
     "input": [
      "unzipped = zip(*sortedtuple)\n",
      "orderedTotalCr = unzipped[0]\n",
      "orderedProbas = unzipped[1]\n",
      "plt.plot(totalcr,grad,'g.')\n",
      "plt.plot(orderedTotalCr,orderedProbas,'r-')\n",
      "plt.grid()\n",
      "plt.axis([0,200,-.3,1.3])\n",
      "plt.show() #zip, sort, unzip"
     ],
     "language": "python",
     "metadata": {},
     "outputs": [
      {
       "metadata": {},
       "output_type": "display_data",
       "png": "[encoded data removed]",
       "text": [
        "<matplotlib.figure.Figure at 0x10bffa690>"
       ]
      }
     ],
     "prompt_number": 63
    },
    {
     "cell_type": "markdown",
     "metadata": {},
     "source": [
      "There we have our pretty picture of logistic regression."
     ]
    },
    {
     "cell_type": "code",
     "collapsed": false,
     "input": [],
     "language": "python",
     "metadata": {},
     "outputs": []
    }
   ],
   "metadata": {}
  }
 ]
}