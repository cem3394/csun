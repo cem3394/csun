{
 "metadata": {
  "name": "",
  "signature": "sha256:8ac00dd2395c6ad735aeb8c42cb73b878ffe06fda189e68b801da4ab5b3e5e1f"
 },
 "nbformat": 3,
 "nbformat_minor": 0,
 "worksheets": [
  {
   "cells": [
    {
     "cell_type": "code",
     "collapsed": false,
     "input": [
      "import sys\n",
      "\n",
      "%matplotlib inline\n",
      "from __future__ import division\n",
      "import numpy as np\n",
      "import pandas as pd\n",
      "import matplotlib.pyplot as plt\n",
      "import re\n",
      "import sklearn\n",
      "\n",
      "from sklearn import metrics\n",
      "from sklearn.cross_validation import train_test_split, cross_val_score\n",
      "from sklearn import metrics\n",
      "from sklearn.metrics import roc_curve, auc\n",
      "from sklearn.linear_model import LogisticRegression\n",
      "from sklearn.decomposition import PCA\n",
      "from sklearn.cluster import KMeans\n",
      "from scipy.spatial.distance import cdist\n",
      "\n",
      "def printContingencyTable(y_test, y_pred):\n",
      "    confusion_matrix = metrics.confusion_matrix(y_test, y_pred)\n",
      "    plt.matshow(confusion_matrix)\n",
      "    plt.title('Confusion matrix')\n",
      "    #plt.colorbar()\n",
      "    plt.ylabel('Graduated')\n",
      "    plt.xlabel('Predicted')\n",
      "    plt.show()\n",
      "    print(confusion_matrix)\n",
      "\n",
      "\n",
      "def plotROC(y_test,y_pred):\n",
      "    #y_pred can consist of Boolean labels or probabilities, w/ the obvious implications for curve character\n",
      "    false_positive_rate, true_positive_rate, thresholds = roc_curve(y_test,y_pred)\n",
      "    roc_auc = auc(false_positive_rate, true_positive_rate)\n",
      "    plt.title('Receiver Operating Characteristic')\n",
      "    plt.plot(false_positive_rate, true_positive_rate, 'b', label='AUC = %0.2f' %roc_auc)\n",
      "    plt.legend(loc='lower right')\n",
      "    plt.plot([0, 1], [0, 1], 'r--')\n",
      "    plt.xlim([0.0, 1.0])\n",
      "    plt.ylim([0.0, 1.0])\n",
      "    plt.ylabel('False Negative Rate')\n",
      "    plt.xlabel('True Positive Rate')\n",
      "    plt.show()\n",
      "    \n",
      "def pseudo_F(X, labels, centroids):\n",
      "   \n",
      "    mean = np.mean(X,axis=0) \n",
      "    B = np.sum([ (c - mean)**2 for c in centroids])\n",
      "    W = np.sum([ (x-centroids[labels[i]])**2 \n",
      "                 for i, x in enumerate(X)])\n",
      "    c = len(centroids)\n",
      "    n = len(X)\n",
      "    return (B /(c-1))/(W/ (n-c))\n"
     ],
     "language": "python",
     "metadata": {},
     "outputs": [],
     "prompt_number": 1
    },
    {
     "cell_type": "code",
     "collapsed": false,
     "input": [
      "#\n",
      "#Load/encode data\n",
      "#\n",
      "data = pd.read_csv('data/economics_redacted.csv')\n",
      "data['Graduated'].replace(to_replace=('N','Y'), value=(0,1), inplace=True)\n",
      "data.head()\n",
      "\n",
      "def encode(s):\n",
      "    v = re.split(r':',s)\n",
      "    x = v[1][1:]\n",
      "    out = 0.0\n",
      "    if x=='A+':\n",
      "        out=4.0\n",
      "    if x=='A':\n",
      "        out=4.0\n",
      "    if x=='A-':\n",
      "        out=3.7\n",
      "    if x=='B+':\n",
      "        out=3.3\n",
      "    if x=='B':\n",
      "        out=3.0\n",
      "    if x=='B-':\n",
      "        out=2.7\n",
      "    if x=='C+':\n",
      "        out=2.3\n",
      "    if x=='C':\n",
      "        out=2.0\n",
      "    if x=='C-':\n",
      "        out=1.7\n",
      "    if x=='D+':\n",
      "        out=1.3\n",
      "    if x=='D':\n",
      "        out=1.0\n",
      "    if x=='D-':\n",
      "        out=0.7\n",
      "    if x=='F':\n",
      "        out=0.0\n",
      "    if x=='NA':\n",
      "        out=0.0\n",
      "    if x=='CR':\n",
      "        out=2.0\n",
      "    return float(out-2.0)\n",
      "\n",
      "gpaDF=data[data.columns[5:]].applymap(encode) #apply above encoding function \n",
      "gpaDF[data.columns[:5]]=data[data.columns[:5]]\n",
      "gpaDF=gpaDF[data.columns]"
     ],
     "language": "python",
     "metadata": {},
     "outputs": [],
     "prompt_number": 3
    },
    {
     "cell_type": "code",
     "collapsed": false,
     "input": [
      "from sklearn.decomposition import PCA\n",
      "\n",
      "col = [i for i in range(5,32)] #all psych classes\n",
      "col = [7,8,10]\n",
      "pca = PCA(n_components=2)\n",
      "\n",
      "X_raw=gpaDF[gpaDF.columns[col]]\n",
      "normalizer=sklearn.preprocessing.Normalizer()\n",
      "\n",
      "X_raw_norm = X_raw\n",
      "#X_raw_norm= normalizer.fit_transform(X_raw.transpose().values.astype('float64')).transpose()#(X_raw - X_raw.mean()) / (X_raw.max() - X_raw.min())\n",
      "#X_raw_norm= normalizer.fit_transform(X_raw.values.astype('float64'))\n",
      "\n",
      "reduced_X = pca.fit_transform(X_raw_norm)\n",
      "y=data['Graduated']\n",
      "\n",
      "red_x, red_y = [], []\n",
      "blue_x, blue_y = [], []\n",
      "\n",
      "for i in range(len(reduced_X)):\n",
      "    if y[i] == 0:\n",
      "        red_x.append(reduced_X[i][0])\n",
      "        red_y.append(reduced_X[i][1])\n",
      "    elif y[i] == 1:\n",
      "        blue_x.append(reduced_X[i][0])\n",
      "        blue_y.append(reduced_X[i][1])\n",
      "\n",
      "plt.scatter(red_x, red_y, c='r', marker='x')\n",
      "plt.scatter(blue_x, blue_y, c='b', marker='x')\n",
      "\n",
      "plt.show()"
     ],
     "language": "python",
     "metadata": {},
     "outputs": [
      {
       "metadata": {},
       "output_type": "display_data",
       "png": "[encoded data removed]",
       "text": [
        "<matplotlib.figure.Figure at 0x52b5ed0>"
       ]
      }
     ],
     "prompt_number": 4
    },
    {
     "cell_type": "code",
     "collapsed": false,
     "input": [
      "#\n",
      "#Correlation of pc1 with each course\n",
      "#\n",
      "\n",
      "dfPC1=pd.DataFrame({'class':gpaDF.columns[col], 'eig_comp':pca.components_[0]})\n",
      "print dfPC1.sort('eig_comp', ascending=False).head(10)\n",
      "pca.explained_variance_ratio_"
     ],
     "language": "python",
     "metadata": {},
     "outputs": [
      {
       "output_type": "stream",
       "stream": "stdout",
       "text": [
        "     class  eig_comp\n",
        "1  ECON311  0.672437\n",
        "0  ECON310  0.663554\n",
        "2  ENGL205  0.327911\n"
       ]
      },
      {
       "metadata": {},
       "output_type": "pyout",
       "prompt_number": 5,
       "text": [
        "array([ 0.52787317,  0.36597902])"
       ]
      }
     ],
     "prompt_number": 5
    },
    {
     "cell_type": "code",
     "collapsed": false,
     "input": [
      "plt.plot(range(2, 10), chindex, 'bx-')\n",
      "plt.xlabel('k')\n",
      "plt.ylabel('Calinski-Harabasz Index')\n",
      "plt.title('Selecting k with the CH index')\n",
      "plt.show()"
     ],
     "language": "python",
     "metadata": {},
     "outputs": []
    },
    {
     "cell_type": "code",
     "collapsed": false,
     "input": [
      "#\n",
      "#Kmeans with L1 metric from Seyed's code\n",
      "#\n",
      "\n",
      "import sys\n",
      "sys.path.insert(1,'/Users/cem/Documents/csun/academic_data/projects/csun/seyed')\n",
      "\n",
      "from sklearn import metrics\n",
      "import kmeansdistance as KD\n",
      "from sklearn.cluster import KMeans\n",
      "\n",
      "col = [i for i in range(5,32)]\n",
      "\n",
      "misdistman = []\n",
      "chindex = []\n",
      "X = gpaDF[gpaDF.columns[col]]\n",
      "for i in range(1,10):\n",
      "    kmeans = KMeans(n_clusters=i)\n",
      "    kmeans.fit(X)\n",
      "    kfit = KD.kmeans(X,kmeans.cluster_centers_,metric = \"cityblock\")\n",
      "    misdistman.append(sum(np.min(cdist(X, kfit[0],'cityblock'), axis=1)) / X.shape[0])\n",
      "    if i>1 :\n",
      "        kmeans_model = KMeans(n_clusters=i).fit(X)\n",
      "        #chindex.append(pseudo_F(X, kmeans_model.labels_,kmeans.cluster_centers_))\n",
      "        kfit = KD.kmeans(X,kmeans.cluster_centers_,metric = \"cityblock\")\n",
      "        print \"K=\",i,\" silhouette score\", metrics.silhouette_score(X,kfit[1],metric='euclidean')\n",
      "'''kmeans = KMeans(3)\n",
      "kmeans.fit(X)\n",
      "kfit = KD.kmeans(X,kmeans.cluster_centers_,metric = \"cityblock\")\n",
      "len(kfit)\n",
      "'''\n",
      "data = pd.DataFrame(numgrade)\n",
      "X = numgrade\n",
      "K = range(1, 10)\n",
      "meandistortions = []\n",
      "\n",
      "\n",
      "\n",
      "plt.plot(range(1,10), misdistman, 'bx-')\n",
      "plt.xlabel('k')\n",
      "plt.ylabel('L1 Average Distortion')\n",
      "plt.title('Selecting k with the Elbow Method')\n",
      "plt.show()"
     ],
     "language": "python",
     "metadata": {},
     "outputs": []
    },
    {
     "cell_type": "code",
     "collapsed": false,
     "input": [
      "#\n",
      "#Probably deprecating this cell in favor of Seyed's L1 k-means, but want to investigate CH index first\n",
      "#\n",
      "\n",
      "col = [i for i in range(5,32)]\n",
      "K = range(10)\n",
      "meandistortions = []\n",
      "silhouette=[]\n",
      "\n",
      "#X_train, X_test, y_train, y_test = train_test_split(gpaDF[gpaDF.columns[col]], data2['Graduated'])\n",
      "\n",
      "#regular Kmeans\n",
      "for k in K:\n",
      "    ####Chris: add sil. scores & CH-INDEX\n",
      "    kmeans = KMeans(n_clusters=k)\n",
      "    kmeans.fit(gpaDF[gpaDF.columns[col]])\n",
      "    silhouette.append([k, metrics.silhouette_score(gpaDF[gpaDF.columns[col]],kmeans.labels_,metric='euclidean')])\n",
      "    #ch.append([k,pseudo_F(data[data.columns[cl:]].values,kmeans.labels_,kmeans.cluster_centers_)])\n",
      "    meandistortions.append(sum(np.min(cdist(gpaDF[gpaDF.columns[col]],\\\n",
      "                                            kmeans.cluster_centers_,\\\n",
      "                                            'l1'), axis=1)) / gpaDF[gpaDF.columns[col]].shape[0])\n",
      "\n",
      "plt.plot(K, meandistortions, 'bx-')\n",
      "plt.xlabel('k')\n",
      "plt.ylabel('Average distortion')\n",
      "#plt.title('Selecting k with the Elbow Method')\n",
      "plt.show()\n",
      "\n",
      "#center=clusterCenters(data, k=k,n_tests=10,init='random')\n",
      "# kmeans_model = KMeans(n_clusters=k, n_init=20).fit(gpaDF[gpaDF.columns[cl:]])\n",
      "# gradClustersDF=printClusters(ratedDF, kmeans_model.labels_,k=kmeans_model.n_clusters)\n",
      "# plotPCA(ratedDF[gpaDF.columns[cl:]],kmeans_model.labels_,k=kmeans_model.n_clusters,norm=False, centered=False)\n",
      "\n",
      "#distancesDF=getDistancesDF(gpaDF.columns[cl:], kmeans_model.cluster_centers_,k=kmeans_model.n_clusters)\n",
      "#distancesDF['Distance']=abs(distancesDF['Cluster0']-distancesDF['Cluster1'])\n",
      "#distancesDF.sort('Distance', ascending=False)"
     ],
     "language": "python",
     "metadata": {},
     "outputs": [
      {
       "metadata": {},
       "output_type": "display_data",
       "png": "[encoded data removed]",
       "text": [
        "<matplotlib.figure.Figure at 0x10bc9ba10>"
       ]
      }
     ],
     "prompt_number": 18
    },
    {
     "cell_type": "code",
     "collapsed": false,
     "input": [
      "#\n",
      "#This cell isn't going to make sense if the ideal # of clusters for your major is not 2\n",
      "#\n",
      "\n",
      "from sklearn.cluster import KMeans\n",
      "k=2\n",
      "col = [i for i in range(5,32)]\n",
      "\n",
      "X_train, X_test, y_train, y_test = train_test_split(gpaDF[gpaDF.columns[col]], data['Graduated'])\n",
      "classifier = KMeans(n_clusters=k, n_init=20)\n",
      "classifier.fit(X_train, y_train)\n",
      "y_pred = classifier.predict(X_test)\n",
      "printContingencyTable(y_test,y_pred)"
     ],
     "language": "python",
     "metadata": {},
     "outputs": [
      {
       "metadata": {},
       "output_type": "display_data",
       "png": "[encoded data removed]",
       "text": [
        "<matplotlib.figure.Figure at 0x10bbdff90>"
       ]
      },
      {
       "output_type": "stream",
       "stream": "stdout",
       "text": [
        "[[1240  384]\n",
        " [  23 1224]]\n"
       ]
      }
     ],
     "prompt_number": 106
    },
    {
     "cell_type": "code",
     "collapsed": false,
     "input": [
      "col = [5,6,7,8,10]\n",
      "X_train, X_test, y_train, y_test = train_test_split(gpaDF[gpaDF.columns[col]], data['Graduated'])\n",
      "classifier = LogisticRegression()\n",
      "classifier.fit(X_train.reshape(len(X_train),len(col)), y_train)\n",
      "y_pred = classifier.predict(X_test.reshape(len(X_test),len(col)))\n",
      "print gpaDF.columns[col]\n",
      "print classifier.coef_"
     ],
     "language": "python",
     "metadata": {},
     "outputs": [
      {
       "output_type": "stream",
       "stream": "stdout",
       "text": [
        "Index([u'PSY150', u'MATH140', u'PSY250', u'PSY320', u'PSY321'], dtype='object')\n",
        "[[ 0.03837614  0.01785652  0.08315982  0.34531621  1.06281684]]\n"
       ]
      }
     ],
     "prompt_number": 84
    },
    {
     "cell_type": "code",
     "collapsed": false,
     "input": [
      "printContingencyTable(y_test,y_pred)\n",
      "scores = cross_val_score(classifier, X_train, y_train, cv=5)\n",
      "print 'Accuracy:  ', np.mean(scores)\n",
      "precisions = cross_val_score(classifier, X_train, y_train, cv=5, scoring='precision')\n",
      "print 'Precision: ', np.mean(precisions)\n",
      "recalls = cross_val_score(classifier, X_train, y_train, cv=5, scoring='recall')\n",
      "print 'Recall:    ', np.mean(recalls)\n",
      "f1s = cross_val_score(classifier, X_train, y_train, cv=5, scoring='f1')\n",
      "print 'F1:        ', np.mean(f1s)"
     ],
     "language": "python",
     "metadata": {},
     "outputs": [
      {
       "metadata": {},
       "output_type": "display_data",
       "png": "[encoded data removed]",
       "text": [
        "<matplotlib.figure.Figure at 0x10956a950>"
       ]
      },
      {
       "output_type": "stream",
       "stream": "stdout",
       "text": [
        "[[1366  310]\n",
        " [ 149 1046]]\n",
        "Accuracy:  "
       ]
      },
      {
       "output_type": "stream",
       "stream": "stdout",
       "text": [
        " 0.849396104999\n",
        "Precision: "
       ]
      },
      {
       "output_type": "stream",
       "stream": "stdout",
       "text": [
        " 0.79654361066\n",
        "Recall:    "
       ]
      },
      {
       "output_type": "stream",
       "stream": "stdout",
       "text": [
        " 0.87361864373\n",
        "F1:        "
       ]
      },
      {
       "output_type": "stream",
       "stream": "stdout",
       "text": [
        " 0.833298013276\n"
       ]
      }
     ],
     "prompt_number": 85
    },
    {
     "cell_type": "code",
     "collapsed": false,
     "input": [
      "#\n",
      "#Pull out Seyed's L1 k-means labels (w/ whatever the optimum # of clusters is) and use them to train a Random Forests classifier\n",
      "#\n",
      "\n",
      "from sklearn.ensemble import RandomForestClassifier\n",
      "col = [i for i in range(5,32)]\n",
      "col = [5,6,7,8,10]\n",
      "X_train, X_test, y_train, y_test = train_test_split(gpaDF[gpaDF.columns[col]], \"\"\"place Seyed's labels here\"\"\")\n",
      "\n",
      "classifier = RandomForestClassifier(n_estimators=10, random_state=0)\n",
      "printContingencyTable(y_test,y_pred)\n",
      "scores = cross_val_score(classifier, X_train, y_train, cv=5)\n",
      "print 'Accuracy:  ', np.mean(scores)\n",
      "precisions = cross_val_score(classifier, X_train, y_train, cv=5, scoring='precision')\n",
      "print 'Precision: ', np.mean(precisions)\n",
      "recalls = cross_val_score(classifier, X_train, y_train, cv=5, scoring='recall')\n",
      "print 'Recall:    ', np.mean(recalls)\n",
      "f1s = cross_val_score(classifier, X_train, y_train, cv=5, scoring='f1')\n",
      "print 'F1:        ', np.mean(f1s)"
     ],
     "language": "python",
     "metadata": {},
     "outputs": [],
     "prompt_number": 44
    },
    {
     "cell_type": "code",
     "collapsed": false,
     "input": [
      "#\n",
      "#Show that labels are nearly as strong as the full feature set (i.e. analog of an enterotype for student performance)\n",
      "#\n",
      "\n",
      "col = [i for i in range(5,32)]\n",
      "col = [5,6,7,8,10]\n",
      "X_train, X_test, y_train, y_test = train_test_split(gpaDF[gpaDF.columns[col]], data['Graduated'])\n",
      "\n",
      "k=2\n",
      "classifier = KMeans(n_clusters=k, n_init=20)\n",
      "classifier.fit(X_train, y_train)\n",
      "y_pred = classifier.predict(X_test)\n",
      "#y_pred = [i*-1 +1 for i in y_pred]\n",
      "false_positive_rate, true_positive_rate, thresholds = roc_curve(y_test,y_pred)\n",
      "roc_auc = auc(false_positive_rate, true_positive_rate)\n",
      "plt.plot(false_positive_rate, true_positive_rate, 'b', label='AUC = %0.2f' %roc_auc)\n",
      "\n",
      "classifier = LogisticRegression()\n",
      "classifier.fit(X_train.reshape(len(X_train),len(col)), y_train)\n",
      "y_pred = classifier.predict_proba(X_test)[:,1]\n",
      "false_positive_rate, true_positive_rate, thresholds = roc_curve(y_test,y_pred)\n",
      "roc_auc = auc(false_positive_rate, true_positive_rate)\n",
      "plt.plot(false_positive_rate, true_positive_rate, 'b', label='AUC = %0.2f' %roc_auc)\n",
      "\n",
      "plt.title('Receiver Operating Characteristic')\n",
      "plt.legend(loc='lower right')\n",
      "plt.plot([0, 1], [0, 1], 'r--')\n",
      "plt.xlim([0.0, 1.0])\n",
      "plt.ylim([0.0, 1.0])\n",
      "plt.ylabel('False Negative Rate')\n",
      "plt.xlabel('True Positive Rate')\n",
      "plt.show()"
     ],
     "language": "python",
     "metadata": {},
     "outputs": [
      {
       "metadata": {},
       "output_type": "display_data",
       "png": "[encoded data removed]",
       "text": [
        "<matplotlib.figure.Figure at 0x10bcf1d90>"
       ]
      }
     ],
     "prompt_number": 95
    },
    {
     "cell_type": "code",
     "collapsed": false,
     "input": [
      "#\n",
      "#Do some basic inference on other metadata such as N_Terms or Inst_Cr\n",
      "#\n",
      "\n",
      "#plt.scatter(gpaDF['PSY321'],data['N_Terms'])\n",
      "gpa = [2.0,1.7,1.3,1.0,0.7,0.3,0.0,-0.3,-0.7,-1.0,-1.3,-1.7,-2.0]\n",
      "gpa = [[2.0,1.7,1.3,1.0,0.7,0.3,0.0],[-0.3,-0.7,-1.0,-1.3,-1.7,-2.0]]\n",
      "\n",
      "out = []\n",
      "for i in gpa:\n",
      "    out.append(gpaDF[gpaDF['PSY320'].isin(i)]['N_Terms'])\n",
      "\n",
      "fig = plt.figure(1, figsize=(9, 6))\n",
      "ax = fig.add_subplot(111) # Create an axes instance\n",
      "bp = ax.boxplot(out) # Create the boxplot\n",
      "fig.savefig('fig1.png', bbox_inches='tight') # Save the figure"
     ],
     "language": "python",
     "metadata": {},
     "outputs": [
      {
       "metadata": {},
       "output_type": "display_data",
       "png": "[encoded data removed]",
       "text": [
        "<matplotlib.figure.Figure at 0x109d38b10>"
       ]
      }
     ],
     "prompt_number": 37
    },
    {
     "cell_type": "code",
     "collapsed": false,
     "input": [
      "#\n",
      "#Do some basic inference on other metadata such as N_Terms or Inst_Cr\n",
      "#\n",
      "\n",
      "#plt.scatter(gpaDF['PSY321'],data['N_Terms'])\n",
      "gpa = [2.0,1.7,1.3,1.0,0.7,0.3,0.0,-0.3,-0.7,-1.0,-1.3,-1.7,-2.0]\n",
      "gpa = [[2.0,2,1.7,1.3,1.0,1,0.7,0.3,0,0.0],[-0.3,-0.7,-1.0,-1,-1.3,-1.7,-2.0,2]]\n",
      "\n",
      "out = []\n",
      "for i in gpa:\n",
      "    out.append(gpaDF[gpaDF['PSY320'].isin(i)]['Graduated'])\n",
      "\n",
      "\n",
      "print len(out[0]),len(out[1])\n",
      "print out[0].value_counts()\n",
      "print out[1].value_counts()\n"
     ],
     "language": "python",
     "metadata": {},
     "outputs": [
      {
       "output_type": "stream",
       "stream": "stdout",
       "text": [
        "3188 6285\n",
        "1    2244\n",
        "0     944\n",
        "dtype: int64\n",
        "0    4988\n",
        "1    1297\n",
        "dtype: int64\n"
       ]
      }
     ],
     "prompt_number": 59
    },
    {
     "cell_type": "code",
     "collapsed": false,
     "input": [
      "print out[0].value_counts()\n",
      "print out[1].value_counts()"
     ],
     "language": "python",
     "metadata": {},
     "outputs": [
      {
       "output_type": "stream",
       "stream": "stdout",
       "text": [
        "1    2244\n",
        "0     944\n",
        "dtype: int64\n",
        "0    4988\n",
        "1    1297\n",
        "dtype: int64\n"
       ]
      }
     ],
     "prompt_number": 60
    },
    {
     "cell_type": "code",
     "collapsed": false,
     "input": [
      "4988+1297"
     ],
     "language": "python",
     "metadata": {},
     "outputs": [
      {
       "metadata": {},
       "output_type": "pyout",
       "prompt_number": 62,
       "text": [
        "6285"
       ]
      }
     ],
     "prompt_number": 62
    },
    {
     "cell_type": "code",
     "collapsed": false,
     "input": [
      "1297/6285"
     ],
     "language": "python",
     "metadata": {},
     "outputs": [
      {
       "metadata": {},
       "output_type": "pyout",
       "prompt_number": 63,
       "text": [
        "0.20636435958631663"
       ]
      }
     ],
     "prompt_number": 63
    },
    {
     "cell_type": "code",
     "collapsed": false,
     "input": [
      "def encode(s):\n",
      "    if s < 0.0:\n",
      "        return 0\n",
      "    else:\n",
      "        return 1\n",
      "\n",
      "gpaDF=data[data.columns[5:]].applymap(encode) #apply above encoding function \n",
      "gpaDF[data.columns[:5]]=data[data.columns[:5]]\n",
      "gpaDF=gpaDF[data.columns]"
     ],
     "language": "python",
     "metadata": {},
     "outputs": [],
     "prompt_number": 50
    },
    {
     "cell_type": "code",
     "collapsed": false,
     "input": [
      "printContingencyTable(gpaDF['Graduated'],gpaDF['PSY320'])"
     ],
     "language": "python",
     "metadata": {},
     "outputs": [
      {
       "metadata": {},
       "output_type": "display_data",
       "png": "[encoded data removed]",
       "text": [
        "<matplotlib.figure.Figure at 0x102946150>"
       ]
      },
      {
       "output_type": "stream",
       "stream": "stdout",
       "text": [
        "[[   0 6577]\n",
        " [   0 4906]]\n"
       ]
      }
     ],
     "prompt_number": 52
    },
    {
     "cell_type": "code",
     "collapsed": false,
     "input": [],
     "language": "python",
     "metadata": {},
     "outputs": []
    }
   ],
   "metadata": {}
  }
 ]
}