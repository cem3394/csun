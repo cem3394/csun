{
 "metadata": {
  "name": "",
  "signature": "sha256:8a2dcf747a587ef91c98a827f2772597610f1dc611448bb8c5331a8dd6bf634d"
 },
 "nbformat": 3,
 "nbformat_minor": 0,
 "worksheets": [
  {
   "cells": [
    {
     "cell_type": "heading",
     "level": 1,
     "metadata": {},
     "source": [
      "make a list of the major courses without labs"
     ]
    },
    {
     "cell_type": "code",
     "collapsed": false,
     "input": [
      "#maj_list={'marketing':['ACCT220','ACCT230','BLAW280','COMP100', 'ECON160','ECON161','ENGL205','SOM120','MATH103','MATH150A','MATH150B',\n",
      "#             'MATH140', 'BUS302','BUS302L','FIN303','MGT360','MKT304','SOM306','MKT346','MKT348'],'criminology':['MATH140', 'SOC150', 'SOC202','SOC250', 'SOC364L', 'SOC364','SOC368','SOC368S'],'sociology':['MATH140', 'SOC150', 'SOC202', 'SOC364','SOC364L', 'SOC368S', 'SOC468S', 'SOC497L'],'finance':['ACCT220','ACCT230','ECON160','ECON161','COMP100','SOM120','ENGL205','BLAW280','MATH103','MATH150A','MATH150B','BUS302','BUS302L','FIN303','MGT360','MKT304','SOM306','BUS497','BLAW308','FIN352','FIN355']}\n",
      "maj_list={'Management':['ACCT220','ACCT230','BLAW280','COMP100', 'ECON160','ECON161','ENGL205',\\\n",
      "           'MATH103','SOM120','MATH150A','MATH150B',\\\n",
      "             'MATH140', 'BUS302','FIN303','MGT360','MKT304','SOM306','ECON308',\\\n",
      "             'MGT370','MKT380','BLAW308'],'Economics':['ACCT220','ECON309','ECON310','ECON311',\\\n",
      " 'ECON401','ENGL205','ENGL305','ENGL306','ECON160','ECON161','MATH103','MATH150A',\\\n",
      " 'MATH255A','MATH140','SOM120'],\\\n",
      "         \"Business_Law\":['ACCT220','ACCT230','BLAW280','COMP100', 'ECON160','ECON161','ENGL205' ,\\\n",
      "           'MATH103','SOM120','MATH150A','MATH150B',\\\n",
      "             'MATH140', 'BUS302','FIN303','MGT360','MKT304','SOM306','BLAW308']}"
     ],
     "language": "python",
     "metadata": {},
     "outputs": [],
     "prompt_number": 18
    },
    {
     "cell_type": "code",
     "collapsed": false,
     "input": [
      "len(maj_list['Management'])"
     ],
     "language": "python",
     "metadata": {},
     "outputs": [
      {
       "metadata": {},
       "output_type": "pyout",
       "prompt_number": 3,
       "text": [
        "22"
       ]
      }
     ],
     "prompt_number": 3
    },
    {
     "cell_type": "code",
     "collapsed": false,
     "input": [
      "maj_course = {i:[z for z in maj_list[i] if not z[-1]=='L'] for i in maj_list.keys()}"
     ],
     "language": "python",
     "metadata": {},
     "outputs": [],
     "prompt_number": 4
    },
    {
     "cell_type": "code",
     "collapsed": false,
     "input": [
      "maj_course"
     ],
     "language": "python",
     "metadata": {},
     "outputs": [
      {
       "metadata": {},
       "output_type": "pyout",
       "prompt_number": 5,
       "text": [
        "{'Business_Law': ['ACCT220',\n",
        "  'ACCT230',\n",
        "  'BLAW280',\n",
        "  'COMP100',\n",
        "  'ECON160',\n",
        "  'ECON161',\n",
        "  'ENGL205',\n",
        "  'MATH103',\n",
        "  'SOM120',\n",
        "  'MATH150A',\n",
        "  'MATH150B',\n",
        "  'MATH140',\n",
        "  'BUS302',\n",
        "  'FIN303',\n",
        "  'MGT360',\n",
        "  'MKT304',\n",
        "  'SOM306',\n",
        "  'BLAW308'],\n",
        " 'Economics': ['ACCT220',\n",
        "  'ECON309',\n",
        "  'ECON310',\n",
        "  'ECON311',\n",
        "  'ECON401',\n",
        "  'ENGL205',\n",
        "  'ENGL305',\n",
        "  'ENGL306',\n",
        "  'ECON160',\n",
        "  'ECON161',\n",
        "  'MATH103',\n",
        "  'MATH150A',\n",
        "  'MATH255A',\n",
        "  'MATH140',\n",
        "  'SOM120'],\n",
        " 'Management': ['ACCT220',\n",
        "  'ACCT230',\n",
        "  'BLAW280',\n",
        "  'COMP100',\n",
        "  'ECON160',\n",
        "  'ECON161',\n",
        "  'ENGL205',\n",
        "  'MATH103',\n",
        "  'SOM120',\n",
        "  'MATH150A',\n",
        "  'MATH150B',\n",
        "  'MATH140',\n",
        "  'BUS302',\n",
        "  'FIN303',\n",
        "  'MGT360',\n",
        "  'MKT304',\n",
        "  'SOM306',\n",
        "  'ECON308',\n",
        "  'MGT370',\n",
        "  'MKT380',\n",
        "  'BLAW308']}"
       ]
      }
     ],
     "prompt_number": 5
    },
    {
     "cell_type": "code",
     "collapsed": false,
     "input": [
      "import string\n",
      "import pandas as pd\n",
      "import numpy as np\n",
      "import re\n",
      "import csv\n",
      "import pprint\n",
      "#maj_list={'marketing':['ACCT220','ACCT230','BLAW280','COMP100', 'ECON160','ECON161','ENGL205','SOM120','MATH103','MATH150A','MATH150B',\n",
      "#             'MATH140', 'BUS302','BUS302L','FIN303','MGT360','MKT304','SOM306','MKT346','MKT348'],'finance':['ACCT220','ACCT230','ECON160','ECON161','COMP100','SOM120','ENGL205','BLAW280','MATH103','MATH150A','MATH150B','BUS302','BUS302L','FIN303','MGT360','MKT304','SOM306','BUS497','BLAW308','FIN352','FIN355']}\n",
      "#maj_course = {i:[z for z in maj_list[i] if not z[-1]=='L'] for i in maj_list.keys()}\n",
      "#maj_list ={'math':['MATH102','MATH103','MATH92','MATH93','MATH150A','MATH150B','MATH105','MATH106','MATH131','MATH140','MATH250','MATH262','MATH320','MATH340','MATH350','MATH351','MATH360','MATH382']}\n"
     ],
     "language": "python",
     "metadata": {},
     "outputs": [],
     "prompt_number": 6
    },
    {
     "cell_type": "code",
     "collapsed": false,
     "input": [
      "maj_list"
     ],
     "language": "python",
     "metadata": {},
     "outputs": [
      {
       "metadata": {},
       "output_type": "pyout",
       "prompt_number": 8,
       "text": [
        "{'Business_Law': ['ACCT220',\n",
        "  'ACCT230',\n",
        "  'BLAW280',\n",
        "  'COMP100',\n",
        "  'ECON160',\n",
        "  'ECON161',\n",
        "  'ENGL205',\n",
        "  'MATH103',\n",
        "  'SOM120',\n",
        "  'MATH150A',\n",
        "  'MATH150B',\n",
        "  'MATH140',\n",
        "  'BUS302',\n",
        "  'BUS302L',\n",
        "  'FIN303',\n",
        "  'MGT360',\n",
        "  'MKT304',\n",
        "  'SOM306',\n",
        "  'BLAW308'],\n",
        " 'Economics': ['ACCT220',\n",
        "  'ECON309',\n",
        "  'ECON310',\n",
        "  'ECON311',\n",
        "  'ECON401',\n",
        "  'ENGL205',\n",
        "  'ENGL305',\n",
        "  'ENGL306',\n",
        "  'ECON160',\n",
        "  'ECON161',\n",
        "  'MATH103',\n",
        "  'MATH150A',\n",
        "  'MATH255A',\n",
        "  'MATH140',\n",
        "  'SOM120'],\n",
        " 'Management': ['ACCT220',\n",
        "  'ACCT230',\n",
        "  'BLAW280',\n",
        "  'COMP100',\n",
        "  'ECON160',\n",
        "  'ECON161',\n",
        "  'ENGL205',\n",
        "  'MATH103',\n",
        "  'SOM120',\n",
        "  'MATH150A',\n",
        "  'MATH150B',\n",
        "  'MATH140',\n",
        "  'BUS302',\n",
        "  'BUS302L',\n",
        "  'FIN303',\n",
        "  'MGT360',\n",
        "  'MKT304',\n",
        "  'SOM306',\n",
        "  'ECON308',\n",
        "  'MGT370',\n",
        "  'MKT380',\n",
        "  'BLAW308']}"
       ]
      }
     ],
     "prompt_number": 8
    },
    {
     "cell_type": "code",
     "collapsed": false,
     "input": [
      "yowser = pd.read_csv('finance_majors.csv')\n",
      "yowser.head()"
     ],
     "language": "python",
     "metadata": {},
     "outputs": [
      {
       "html": [
        "<div style=\"max-height:1000px;max-width:1500px;overflow:auto;\">\n",
        "<table border=\"1\" class=\"dataframe\">\n",
        "  <thead>\n",
        "    <tr style=\"text-align: right;\">\n",
        "      <th></th>\n",
        "      <th>Student_Id</th>\n",
        "      <th>N_Terms</th>\n",
        "      <th>Last_Term_Id</th>\n",
        "      <th>Major_Cd</th>\n",
        "      <th>Graduated</th>\n",
        "      <th>Transfer_Cr</th>\n",
        "      <th>Inst_Cr</th>\n",
        "      <th>Total_Cr</th>\n",
        "    </tr>\n",
        "  </thead>\n",
        "  <tbody>\n",
        "    <tr>\n",
        "      <th>0</th>\n",
        "      <td> 101051780</td>\n",
        "      <td> 1</td>\n",
        "      <td> 2077</td>\n",
        "      <td> 230727B</td>\n",
        "      <td> Y</td>\n",
        "      <td> 70</td>\n",
        "      <td>  58</td>\n",
        "      <td> 128</td>\n",
        "    </tr>\n",
        "    <tr>\n",
        "      <th>1</th>\n",
        "      <td> 101057045</td>\n",
        "      <td> 1</td>\n",
        "      <td> 2077</td>\n",
        "      <td> 230727B</td>\n",
        "      <td> N</td>\n",
        "      <td> 70</td>\n",
        "      <td>   3</td>\n",
        "      <td>  73</td>\n",
        "    </tr>\n",
        "    <tr>\n",
        "      <th>2</th>\n",
        "      <td>    341458</td>\n",
        "      <td> 1</td>\n",
        "      <td> 2077</td>\n",
        "      <td> 230727B</td>\n",
        "      <td> Y</td>\n",
        "      <td> 38</td>\n",
        "      <td> 104</td>\n",
        "      <td> 142</td>\n",
        "    </tr>\n",
        "    <tr>\n",
        "      <th>3</th>\n",
        "      <td>    341497</td>\n",
        "      <td> 1</td>\n",
        "      <td> 2077</td>\n",
        "      <td> 230727B</td>\n",
        "      <td> Y</td>\n",
        "      <td> 67</td>\n",
        "      <td>  83</td>\n",
        "      <td> 150</td>\n",
        "    </tr>\n",
        "    <tr>\n",
        "      <th>4</th>\n",
        "      <td> 100779261</td>\n",
        "      <td> 1</td>\n",
        "      <td> 2077</td>\n",
        "      <td> 230727B</td>\n",
        "      <td> N</td>\n",
        "      <td> 70</td>\n",
        "      <td>   6</td>\n",
        "      <td>  76</td>\n",
        "    </tr>\n",
        "  </tbody>\n",
        "</table>\n",
        "</div>"
       ],
       "metadata": {},
       "output_type": "pyout",
       "prompt_number": 47,
       "text": [
        "   Student_Id  N_Terms  Last_Term_Id Major_Cd Graduated  Transfer_Cr  Inst_Cr  \\\n",
        "0   101051780        1          2077  230727B         Y           70       58   \n",
        "1   101057045        1          2077  230727B         N           70        3   \n",
        "2      341458        1          2077  230727B         Y           38      104   \n",
        "3      341497        1          2077  230727B         Y           67       83   \n",
        "4   100779261        1          2077  230727B         N           70        6   \n",
        "\n",
        "   Total_Cr  \n",
        "0       128  \n",
        "1        73  \n",
        "2       142  \n",
        "3       150  \n",
        "4        76  "
       ]
      }
     ],
     "prompt_number": 47
    },
    {
     "cell_type": "code",
     "collapsed": false,
     "input": [
      "def pabble(a):    \n",
      "    #df =  pd.read_csv(a+'_features.csv')\n",
      "    df =  pd.read_csv( a+'_features.csv')\n",
      "    dfg = df.groupby('Student_Id')\n",
      "\n",
      "    #y = maj_course[a]\n",
      "    y=maj_list[a]\n",
      "    yesi = y\n",
      "\n",
      "    d = dict(list(dfg))\n",
      "    students = dict.fromkeys(d)\n",
      "    for k in d.keys():\n",
      "      data = ['0:0NA' for i in range(len(y))]\n",
      "      for index, row in d[k].iterrows():\n",
      "        try: \n",
      "          x = re.split(r':',data[y.index(row['Course_Cd'])])\n",
      "          x[0] = str(int(x[0])+1)\n",
      "          x[1] = str(int(row['Pass']))+str(row['Final_Grade'] )\n",
      "          data[y.index(row['Course_Cd'])] = ':'.join(x)\n",
      "        except ValueError: continue  \n",
      "      students[k] = data\n",
      "\n",
      "    full_features = a+\"full.csv\"\n",
      "    with open(full_features, 'wb') as g:\n",
      "        w = csv.writer(g)\n",
      "        w.writerows(students.items())\n",
      "    ','.join(y)\n",
      "\n",
      "    f = open(full_features,'r')\n",
      "    g = open(a+\"_majors.csv\",'r')\n",
      "\n",
      "    m = f.readlines()\n",
      "    m = [i.strip() for i in m[1:]]\n",
      "    m = [re.split(r',',i) for i in m]\n",
      "\n",
      "    n = g.readlines()\n",
      "    n = [i.strip() for i in n[1:]]\n",
      "    n = [re.split(r',',i) for i in n]\n",
      "    f.close()\n",
      "    g.close()\n",
      "    \n",
      " \n",
      "\n",
      "    out = []\n",
      "\n",
      "    lookup = [int(j[0]) for j in m]\n",
      "    errors = []\n",
      "    for i in range(len(n)):\n",
      "        tmp = []\n",
      "        [tmp.append(j) for j in [n[i][3],n[i][1],n[i][4],n[i][5],n[i][6]]]\n",
      "        try: \n",
      "            id = lookup.index(int(n[i][0]))\n",
      "            [tmp.append(j) for j in m[id][1:]]\n",
      "            out.append(tmp)\n",
      "        except ValueError:\n",
      "            errors.append(int(n[i][0]))\n",
      "\n",
      "    f = open(a+'_redacted.csv', 'wb')\n",
      "    w = csv.writer(f)\n",
      "    \n",
      "    rowhead=[\"Major_Cd\",'N_Terms',\"Graduated\",\"Transfer_Cr\",\"Inst_Cr\"]+maj_course[a]\n",
      "    rowhead=string.join(rowhead,',')+'\\n'\n",
      "    f.write(rowhead)\n",
      "    \n",
      "    out=[map(lambda x:x.translate(None,\"'\\\"[] \"),i) for i in out]\n",
      "    w.writerows(out)\n",
      "    f.close()"
     ],
     "language": "python",
     "metadata": {},
     "outputs": [],
     "prompt_number": 19
    },
    {
     "cell_type": "code",
     "collapsed": false,
     "input": [
      "for a in ['Business_Law','Management']:\n",
      "    pabble(a)"
     ],
     "language": "python",
     "metadata": {},
     "outputs": [],
     "prompt_number": 20
    },
    {
     "cell_type": "code",
     "collapsed": false,
     "input": [
      "pabble('Business_Law')"
     ],
     "language": "python",
     "metadata": {},
     "outputs": [],
     "prompt_number": 12
    },
    {
     "cell_type": "heading",
     "level": 1,
     "metadata": {},
     "source": [
      "Row headings"
     ]
    },
    {
     "cell_type": "code",
     "collapsed": false,
     "input": [
      "for a in ['Business_Law','Management']:\n",
      "    print a\n",
      "    rowhead=[\"Major_Cd\",'N_Terms',\"Graduated\",\"Transfer_Cr\",\"Inst_Cr\"]+maj_course[a]\n",
      "    rowhead=string.join(rowhead,',')+'\\n'"
     ],
     "language": "python",
     "metadata": {},
     "outputs": [
      {
       "output_type": "stream",
       "stream": "stdout",
       "text": [
        "Business_Law\n",
        "Management\n"
       ]
      }
     ],
     "prompt_number": 17
    },
    {
     "cell_type": "code",
     "collapsed": false,
     "input": [
      "cd /media/cunctation/csun files"
     ],
     "language": "python",
     "metadata": {},
     "outputs": [
      {
       "output_type": "stream",
       "stream": "stdout",
       "text": [
        "/media/cunctation/csun files\n"
       ]
      }
     ],
     "prompt_number": 13
    },
    {
     "cell_type": "code",
     "collapsed": false,
     "input": [
      "cd csun/"
     ],
     "language": "python",
     "metadata": {},
     "outputs": [
      {
       "output_type": "stream",
       "stream": "stdout",
       "text": [
        "/media/cunctation/csun files/csun\n"
       ]
      }
     ],
     "prompt_number": 15
    },
    {
     "cell_type": "code",
     "collapsed": false,
     "input": [
      "ls"
     ],
     "language": "python",
     "metadata": {},
     "outputs": [
      {
       "output_type": "stream",
       "stream": "stdout",
       "text": [
        "\u001b[0m\u001b[01;34mallen\u001b[0m/                     Finance.pdf\r\n",
        "blawpcaplot.csv            \u001b[01;34mgina\u001b[0m/\r\n",
        "blaw.pdf                   main.ipynb\r\n",
        "blawscaled.pdf             Management_features.csv\r\n",
        "Business_Law_features.csv  Management_majors.csv\r\n",
        "Business_Law_majors.csv    managementpcaplot.csv\r\n",
        "\u001b[01;34mchris\u001b[0m/                     Management.pdf\r\n",
        "\u001b[01;34mdata\u001b[0m/                      marketing_between_class_analysis.pdf\r\n",
        "economics.eps              marketingpcaplot.csv\r\n",
        "economicspcaplot.csv       Marketing.pdf\r\n",
        "economics.pdf              pcaplot.R\r\n",
        "\u001b[01;34meosoba\u001b[0m/                    README.md\r\n",
        "financepcaplot.csv         \u001b[01;34mseyed\u001b[0m/\r\n"
       ]
      }
     ],
     "prompt_number": 16
    },
    {
     "cell_type": "code",
     "collapsed": false,
     "input": [],
     "language": "python",
     "metadata": {},
     "outputs": []
    }
   ],
   "metadata": {}
  }
 ]
}